{
 "cells": [
  {
   "cell_type": "markdown",
   "metadata": {},
   "source": [
    "# Project Deadline #2\n",
    "\n",
    "Need two files of pseudocode for project. One should describe fileinput-output.\n",
    "\n",
    "The other should describe data manipulation over a loop."
   ]
  },
  {
   "cell_type": "code",
   "execution_count": null,
   "metadata": {
    "collapsed": true
   },
   "outputs": [],
   "source": [
    "Extract data from reaching box\n",
    "            Max pulls\n",
    "            Number of successes\n",
    "            Number of pulls\n",
    "            Identify errors\n",
    "                        Number of pulls jumping rapidly\n",
    "Use EMG data\n",
    "            Number pulls\n",
    "            Identify errors\n",
    "                        Number of pulls jumping rapidly\n",
    "Plot\n",
    "            Each animal\n",
    "                        Force (max) at each time point\n",
    "                        Average number of pulls per success\n",
    "Each group\n",
    "                        Force (max) at each time point\n",
    "                        Average number of pulls per success\n",
    "\n",
    "Plots should include\n",
    "                                    Error bars\n",
    "                                    Significance"
   ]
  },
  {
   "cell_type": "code",
   "execution_count": null,
   "metadata": {
    "collapsed": true
   },
   "outputs": [],
   "source": [
    "Pseudocode: describe file input-output\n",
    "    \n",
    "extract data from reaching_box\n",
    "\n",
    "a = get max_pulls\n",
    "aa = convert max_pulls to readable data\n",
    "\n",
    "b = get number_success\n",
    "bb = convert number_success to readable data\n",
    "\n",
    "c = get number_pulls\n",
    "cc =  convert number_pulls to readable data\n",
    "\n",
    "d = get identity_errors\n",
    "dd = convert identity_errors to readable data\n",
    "\n",
    "Do the same extraction for EMG_data\n",
    "\n",
    "output message displaying reaches the animal pulls\n",
    "output message displaying corresponding EMG data for muscle of interest\n",
    "output for corresponding timepoints\n",
    "\n"
   ]
  },
  {
   "cell_type": "code",
   "execution_count": null,
   "metadata": {
    "collapsed": true
   },
   "outputs": [],
   "source": [
    "Pseudocode: describe data manipulation over a loop\n",
    "    \n",
    "extract EMG data\n",
    "user outputs EMG data\n",
    "Count number of pulls\n",
    "    if the number of pulls is within a time point range that's acceptable, plot\n",
    "    if the number of pulls is out of range do not plot if pulls jump rapidly\n",
    "    \n",
    "    '"
   ]
  }
 ],
 "metadata": {
  "anaconda-cloud": {},
  "kernelspec": {
   "display_name": "Python [default]",
   "language": "python",
   "name": "python3"
  },
  "language_info": {
   "codemirror_mode": {
    "name": "ipython",
    "version": 3
   },
   "file_extension": ".py",
   "mimetype": "text/x-python",
   "name": "python",
   "nbconvert_exporter": "python",
   "pygments_lexer": "ipython3",
   "version": "3.5.2"
  }
 },
 "nbformat": 4,
 "nbformat_minor": 2
}

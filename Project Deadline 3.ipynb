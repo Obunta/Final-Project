{
 "cells": [
  {
   "cell_type": "code",
   "execution_count": 1,
   "metadata": {
    "collapsed": true
   },
   "outputs": [],
   "source": [
    "# open the data from reaching box file and read the contents\n",
    "#reaching_box = open(\"\").read()\n",
    "\n",
    "# open the EMG data file\n",
    "\n",
    "# create a variable to hold the\n",
    "\n",
    "#data\n",
    "#length = len(data)\n",
    "#zero_count = reaching_box.count('0')\n",
    "\n"
   ]
  },
  {
   "cell_type": "markdown",
   "metadata": {},
   "source": [
    "##### head Lisa_3_17-02-05_12-38-49_data.csv\n",
    "##### less Lisa_3_17-02-05_12-38-49_data.csv\n",
    "##### cat Lisa_3_17-02-05_12-38-49_data.csv"
   ]
  },
  {
   "cell_type": "code",
   "execution_count": null,
   "metadata": {
    "collapsed": true
   },
   "outputs": [],
   "source": [
    "head -n 1 Lisa_3_17-02-05_12-38-49_data.csv | cut -d ';' -f 1-4"
   ]
  }
 ],
 "metadata": {
  "anaconda-cloud": {},
  "kernelspec": {
   "display_name": "Python [default]",
   "language": "python",
   "name": "python3"
  },
  "language_info": {
   "codemirror_mode": {
    "name": "ipython",
    "version": 3
   },
   "file_extension": ".py",
   "mimetype": "text/x-python",
   "name": "python",
   "nbconvert_exporter": "python",
   "pygments_lexer": "ipython3",
   "version": "3.5.2"
  }
 },
 "nbformat": 4,
 "nbformat_minor": 2
}
